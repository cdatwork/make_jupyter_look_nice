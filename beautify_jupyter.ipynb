{
 "cells": [
  {
   "cell_type": "markdown",
   "id": "06c0bc13-86b9-4170-a9b8-86b4aaadb439",
   "metadata": {},
   "source": [
    "# Run the code from the cell below:\n",
    "You'll likely need to refresh the browser to see the new code cell fonts."
   ]
  },
  {
   "cell_type": "code",
   "execution_count": 33,
   "id": "9335d359-4b47-40e5-aa47-2f785bbb05f6",
   "metadata": {},
   "outputs": [
    {
     "data": {
      "text/html": [
       "<style>\n",
       "    /* import fonts for notebook */\n",
       "    /* go to Google fonts, find a font, go to 'Get font', then 'Get embed code' */\n",
       "    /* then update imports below as needed */\n",
       "    @import url('https://fonts.googleapis.com/css2?family=Inter+Tight:wght@300;700&display=swap');\n",
       "    @import url('https://fonts.googleapis.com/css2?family=Victor+Mono:wght@400;700&display=swap');\n",
       "\n",
       "    :root{\n",
       "        --jp-layout-color2: #c5f0ec; \n",
       "        --row-odd: #F9F9F9;  \n",
       "        --row-even: #c5f0ec;   \n",
       "        --row-hover: #FFFFCB; \n",
       "        --jp-mirror-editor-keyword-color: #5a8c87;\n",
       "        --jp-mirror-editor-string-color: #BF9900; \n",
       "        --jp-code-font-family: 'Victor Mono'\n",
       "    }\n",
       "\n",
       "    .jp-Notebook {\n",
       "        max-width: 1800px;\n",
       "        margin: auto;\n",
       "        padding: 20px;\n",
       "    }\n",
       "\n",
       "    .jp-RenderedHTMLCommon {\n",
       "        font-family: 'Inter Tight', 'Verdana', sans-serif;  \n",
       "    }\n",
       "\n",
       "    .jp-RenderedHTMLCommon code {\n",
       "        font-family: 'Victor Mono', ui-monospace, monospace;\n",
       "        background: var(--jp-layout-color2);\n",
       "        padding: .12em .35em;\n",
       "        border-radius: .30em;\n",
       "    }\n",
       "\n",
       "    .jp-RenderedHTMLCommon pre {\n",
       "        font-family: 'Victor Mono', ui-monospace, monospace;\n",
       "      }\n",
       "\n",
       "    .jp-RenderedHTMLCommon h1 {\n",
       "        font-size: 40px;\n",
       "        font-weight: bold;\n",
       "        display: inline-block;            \n",
       "        padding-right: .30em;             \n",
       "      }\n",
       "\n",
       "    .jp-Notebook .jp-OutputArea .jp-OutputArea-output pre {\n",
       "        font-family: 'Victor Mono', ui-monospace, monospace;\n",
       "    }\n",
       "</style>\n"
      ],
      "text/plain": [
       "<IPython.core.display.HTML object>"
      ]
     },
     "metadata": {},
     "output_type": "display_data"
    }
   ],
   "source": [
    "%%html\n",
    "<style>\n",
    "    /* import fonts for notebook */\n",
    "    /* go to Google fonts, find a font, go to 'Get font', then 'Get embed code' */\n",
    "    /* then update imports below as needed */\n",
    "    @import url('https://fonts.googleapis.com/css2?family=Inter+Tight:wght@300;700&display=swap');\n",
    "    @import url('https://fonts.googleapis.com/css2?family=Victor+Mono:wght@400;700&display=swap');\n",
    "\n",
    "    :root{\n",
    "        --jp-layout-color2: #c5f0ec; \n",
    "        --row-odd: #F9F9F9;  \n",
    "        --row-even: #c5f0ec;   \n",
    "        --row-hover: #FFFFCB; \n",
    "        --jp-mirror-editor-keyword-color: #5a8c87;\n",
    "        --jp-mirror-editor-string-color: #BF9900; \n",
    "        --jp-code-font-family: 'Victor Mono'\n",
    "    }\n",
    "\n",
    "    .jp-Notebook {\n",
    "        max-width: 1800px;\n",
    "        margin: auto;\n",
    "        padding: 20px;\n",
    "    }\n",
    "\n",
    "    .jp-RenderedHTMLCommon {\n",
    "        font-family: 'Inter Tight', 'Verdana', sans-serif;  \n",
    "    }\n",
    "\n",
    "    .jp-RenderedHTMLCommon code {\n",
    "        font-family: 'Victor Mono', ui-monospace, monospace;\n",
    "        background: var(--jp-layout-color2);\n",
    "        padding: .12em .35em;\n",
    "        border-radius: .30em;\n",
    "    }\n",
    "\n",
    "    .jp-RenderedHTMLCommon pre {\n",
    "        font-family: 'Victor Mono', ui-monospace, monospace;\n",
    "      }\n",
    "\n",
    "    .jp-RenderedHTMLCommon h1 {\n",
    "        font-size: 40px;\n",
    "        font-weight: bold;\n",
    "        display: inline-block;            \n",
    "        padding-right: .30em;             \n",
    "      }\n",
    "\n",
    "    .jp-Notebook .jp-OutputArea .jp-OutputArea-output pre {\n",
    "        font-family: 'Victor Mono', ui-monospace, monospace;\n",
    "    }\n",
    "</style>"
   ]
  },
  {
   "cell_type": "markdown",
   "id": "4c77d73e-56a9-48cc-82c1-86749b4f7024",
   "metadata": {},
   "source": [
    "# Header 1\n",
    "Here's some text.\n",
    "* 1\n",
    "* 2\n",
    "* 3"
   ]
  },
  {
   "cell_type": "code",
   "execution_count": null,
   "id": "84aa0dfc-4040-45a6-8b10-e15e5f56092b",
   "metadata": {},
   "outputs": [],
   "source": []
  }
 ],
 "metadata": {
  "kernelspec": {
   "display_name": "Python [conda env:base] *",
   "language": "python",
   "name": "conda-base-py"
  },
  "language_info": {
   "codemirror_mode": {
    "name": "ipython",
    "version": 3
   },
   "file_extension": ".py",
   "mimetype": "text/x-python",
   "name": "python",
   "nbconvert_exporter": "python",
   "pygments_lexer": "ipython3",
   "version": "3.12.7"
  }
 },
 "nbformat": 4,
 "nbformat_minor": 5
}
